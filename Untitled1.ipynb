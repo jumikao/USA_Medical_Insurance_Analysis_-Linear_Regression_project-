{
 "cells": [
  {
   "cell_type": "code",
   "execution_count": 6,
   "id": "c265e4e2",
   "metadata": {},
   "outputs": [
    {
     "name": "stdout",
     "output_type": "stream",
     "text": [
      "<class 'pandas.core.frame.DataFrame'>\n",
      "RangeIndex: 1338 entries, 0 to 1337\n",
      "Data columns (total 7 columns):\n",
      " #   Column    Non-Null Count  Dtype  \n",
      "---  ------    --------------  -----  \n",
      " 0   age       1338 non-null   int64  \n",
      " 1   sex       1338 non-null   object \n",
      " 2   bmi       1338 non-null   float64\n",
      " 3   children  1338 non-null   int64  \n",
      " 4   smoker    1338 non-null   object \n",
      " 5   region    1338 non-null   object \n",
      " 6   charges   1338 non-null   float64\n",
      "dtypes: float64(2), int64(2), object(3)\n",
      "memory usage: 73.3+ KB\n"
     ]
    },
    {
     "data": {
      "text/plain": [
       "no     1064\n",
       "yes     274\n",
       "Name: smoker, dtype: int64"
      ]
     },
     "execution_count": 6,
     "metadata": {},
     "output_type": "execute_result"
    }
   ],
   "source": [
    "import pandas as pd\n",
    "import os\n",
    "\n",
    "#przypisz sciezke i plik z danymi do zmiennej\n",
    "#DOWNLOAD_ROOT = \"https://raw.githubusercontent.com/Kamil128/ProjektPraktycznyRegresja/main/data/medical_cost/\"\n",
    "DOWNLOAD_ROOT = \"https://raw.githubusercontent.com/jumikao/USA_Medical_Insurance_Analysis/main/\"\n",
    "DATA_URL = DOWNLOAD_ROOT + \"medical_cost.csv\"\n",
    "\n",
    "\n",
    "#funkcja zwracajaca zawartosc pliku\n",
    "def load_all_data(file_url=DATA_URL):\n",
    "    return pd.read_csv(file_url)\n",
    "\n",
    "#zapisz do obiektu rezultat funkcji load_all_data\n",
    "all_data = load_all_data()\n",
    "\n",
    "#wyswietl naglowek\n",
    "all_data.head() \n",
    "\n",
    "#informacja o zbiorze danych\n",
    "all_data.info()\n",
    "\n",
    "#liczbowe informacje z rubryki 'smoker'\n",
    "all_data['smoker'].value_counts()\n",
    "\n"
   ]
  },
  {
   "cell_type": "code",
   "execution_count": null,
   "id": "22897286",
   "metadata": {},
   "outputs": [],
   "source": []
  }
 ],
 "metadata": {
  "kernelspec": {
   "display_name": "Python 3 (ipykernel)",
   "language": "python",
   "name": "python3"
  },
  "language_info": {
   "codemirror_mode": {
    "name": "ipython",
    "version": 3
   },
   "file_extension": ".py",
   "mimetype": "text/x-python",
   "name": "python",
   "nbconvert_exporter": "python",
   "pygments_lexer": "ipython3",
   "version": "3.9.12"
  }
 },
 "nbformat": 4,
 "nbformat_minor": 5
}
