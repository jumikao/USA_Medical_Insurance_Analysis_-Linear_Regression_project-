{
 "cells": [
  {
   "cell_type": "code",
   "execution_count": 390,
   "id": "2ba64cc5",
   "metadata": {},
   "outputs": [],
   "source": [
    "#<DESCRIPTION>\n",
    "\n",
    "# The aim of this project is to analyse the medical insurance costs of insurance packages in USA\n",
    "# and to try to predict the potencial medical insurance costs depending on the assumptions given.\n",
    "\n",
    "# In particular, I aim to check how the feature of \"smoking/non-smoking\" affect number of medical insurance charges paid.\n",
    "# In addiction, I want to check whether all given features contribute to the final prediction and how can it vary depending\n",
    "# on the model chosen."
   ]
  },
  {
   "cell_type": "code",
   "execution_count": 391,
   "id": "537c969f",
   "metadata": {},
   "outputs": [],
   "source": [
    "#<DATA COLLECTION>\n",
    "\n",
    "#data is being imported from the repository of Kamil Pabijan (mentor of the project)."
   ]
  },
  {
   "cell_type": "code",
   "execution_count": 392,
   "id": "db12fdc8",
   "metadata": {},
   "outputs": [],
   "source": [
    "import pandas as pd\n",
    "import statistics\n",
    "import numpy as np"
   ]
  },
  {
   "cell_type": "code",
   "execution_count": 393,
   "id": "6014bf5c",
   "metadata": {},
   "outputs": [],
   "source": [
    "#loading the file into the data frame\n",
    "data_df = pd.read_csv(r'https://raw.githubusercontent.com/Kamil128/ProjektPraktycznyRegresja/main/data/medical_cost/medical_cost.csv',\n",
    "                 )"
   ]
  },
  {
   "cell_type": "code",
   "execution_count": 394,
   "id": "b70346a7",
   "metadata": {},
   "outputs": [],
   "source": [
    "#first insights"
   ]
  },
  {
   "cell_type": "code",
   "execution_count": 395,
   "id": "ce54a4a5",
   "metadata": {},
   "outputs": [
    {
     "data": {
      "text/html": [
       "<div>\n",
       "<style scoped>\n",
       "    .dataframe tbody tr th:only-of-type {\n",
       "        vertical-align: middle;\n",
       "    }\n",
       "\n",
       "    .dataframe tbody tr th {\n",
       "        vertical-align: top;\n",
       "    }\n",
       "\n",
       "    .dataframe thead th {\n",
       "        text-align: right;\n",
       "    }\n",
       "</style>\n",
       "<table border=\"1\" class=\"dataframe\">\n",
       "  <thead>\n",
       "    <tr style=\"text-align: right;\">\n",
       "      <th></th>\n",
       "      <th>age</th>\n",
       "      <th>sex</th>\n",
       "      <th>bmi</th>\n",
       "      <th>children</th>\n",
       "      <th>smoker</th>\n",
       "      <th>region</th>\n",
       "      <th>charges</th>\n",
       "    </tr>\n",
       "  </thead>\n",
       "  <tbody>\n",
       "    <tr>\n",
       "      <th>0</th>\n",
       "      <td>19</td>\n",
       "      <td>female</td>\n",
       "      <td>27.900</td>\n",
       "      <td>0</td>\n",
       "      <td>yes</td>\n",
       "      <td>southwest</td>\n",
       "      <td>16884.92400</td>\n",
       "    </tr>\n",
       "    <tr>\n",
       "      <th>1</th>\n",
       "      <td>18</td>\n",
       "      <td>male</td>\n",
       "      <td>33.770</td>\n",
       "      <td>1</td>\n",
       "      <td>no</td>\n",
       "      <td>southeast</td>\n",
       "      <td>1725.55230</td>\n",
       "    </tr>\n",
       "    <tr>\n",
       "      <th>2</th>\n",
       "      <td>28</td>\n",
       "      <td>male</td>\n",
       "      <td>33.000</td>\n",
       "      <td>3</td>\n",
       "      <td>no</td>\n",
       "      <td>southeast</td>\n",
       "      <td>4449.46200</td>\n",
       "    </tr>\n",
       "    <tr>\n",
       "      <th>3</th>\n",
       "      <td>33</td>\n",
       "      <td>male</td>\n",
       "      <td>22.705</td>\n",
       "      <td>0</td>\n",
       "      <td>no</td>\n",
       "      <td>northwest</td>\n",
       "      <td>21984.47061</td>\n",
       "    </tr>\n",
       "    <tr>\n",
       "      <th>4</th>\n",
       "      <td>32</td>\n",
       "      <td>male</td>\n",
       "      <td>28.880</td>\n",
       "      <td>0</td>\n",
       "      <td>no</td>\n",
       "      <td>northwest</td>\n",
       "      <td>3866.85520</td>\n",
       "    </tr>\n",
       "  </tbody>\n",
       "</table>\n",
       "</div>"
      ],
      "text/plain": [
       "   age     sex     bmi  children smoker     region      charges\n",
       "0   19  female  27.900         0    yes  southwest  16884.92400\n",
       "1   18    male  33.770         1     no  southeast   1725.55230\n",
       "2   28    male  33.000         3     no  southeast   4449.46200\n",
       "3   33    male  22.705         0     no  northwest  21984.47061\n",
       "4   32    male  28.880         0     no  northwest   3866.85520"
      ]
     },
     "execution_count": 395,
     "metadata": {},
     "output_type": "execute_result"
    }
   ],
   "source": [
    "data_df.head()"
   ]
  },
  {
   "cell_type": "code",
   "execution_count": 396,
   "id": "291536fd",
   "metadata": {},
   "outputs": [
    {
     "data": {
      "text/plain": [
       "Index(['age', 'sex', 'bmi', 'children', 'smoker', 'region', 'charges'], dtype='object')"
      ]
     },
     "execution_count": 396,
     "metadata": {},
     "output_type": "execute_result"
    }
   ],
   "source": [
    "data_df.columns"
   ]
  },
  {
   "cell_type": "code",
   "execution_count": 397,
   "id": "8a626974",
   "metadata": {},
   "outputs": [
    {
     "name": "stdout",
     "output_type": "stream",
     "text": [
      "<class 'pandas.core.frame.DataFrame'>\n",
      "RangeIndex: 1338 entries, 0 to 1337\n",
      "Data columns (total 7 columns):\n",
      " #   Column    Non-Null Count  Dtype  \n",
      "---  ------    --------------  -----  \n",
      " 0   age       1338 non-null   int64  \n",
      " 1   sex       1338 non-null   object \n",
      " 2   bmi       1338 non-null   float64\n",
      " 3   children  1338 non-null   int64  \n",
      " 4   smoker    1338 non-null   object \n",
      " 5   region    1338 non-null   object \n",
      " 6   charges   1338 non-null   float64\n",
      "dtypes: float64(2), int64(2), object(3)\n",
      "memory usage: 73.3+ KB\n"
     ]
    }
   ],
   "source": [
    "data_df.info()"
   ]
  },
  {
   "cell_type": "code",
   "execution_count": 398,
   "id": "aae5157a",
   "metadata": {},
   "outputs": [
    {
     "data": {
      "text/html": [
       "<div>\n",
       "<style scoped>\n",
       "    .dataframe tbody tr th:only-of-type {\n",
       "        vertical-align: middle;\n",
       "    }\n",
       "\n",
       "    .dataframe tbody tr th {\n",
       "        vertical-align: top;\n",
       "    }\n",
       "\n",
       "    .dataframe thead th {\n",
       "        text-align: right;\n",
       "    }\n",
       "</style>\n",
       "<table border=\"1\" class=\"dataframe\">\n",
       "  <thead>\n",
       "    <tr style=\"text-align: right;\">\n",
       "      <th></th>\n",
       "      <th>age</th>\n",
       "      <th>bmi</th>\n",
       "      <th>children</th>\n",
       "      <th>charges</th>\n",
       "    </tr>\n",
       "  </thead>\n",
       "  <tbody>\n",
       "    <tr>\n",
       "      <th>count</th>\n",
       "      <td>1338.000000</td>\n",
       "      <td>1338.000000</td>\n",
       "      <td>1338.000000</td>\n",
       "      <td>1338.000000</td>\n",
       "    </tr>\n",
       "    <tr>\n",
       "      <th>mean</th>\n",
       "      <td>39.207025</td>\n",
       "      <td>30.663397</td>\n",
       "      <td>1.094918</td>\n",
       "      <td>13270.422265</td>\n",
       "    </tr>\n",
       "    <tr>\n",
       "      <th>std</th>\n",
       "      <td>14.049960</td>\n",
       "      <td>6.098187</td>\n",
       "      <td>1.205493</td>\n",
       "      <td>12110.011237</td>\n",
       "    </tr>\n",
       "    <tr>\n",
       "      <th>min</th>\n",
       "      <td>18.000000</td>\n",
       "      <td>15.960000</td>\n",
       "      <td>0.000000</td>\n",
       "      <td>1121.873900</td>\n",
       "    </tr>\n",
       "    <tr>\n",
       "      <th>25%</th>\n",
       "      <td>27.000000</td>\n",
       "      <td>26.296250</td>\n",
       "      <td>0.000000</td>\n",
       "      <td>4740.287150</td>\n",
       "    </tr>\n",
       "    <tr>\n",
       "      <th>50%</th>\n",
       "      <td>39.000000</td>\n",
       "      <td>30.400000</td>\n",
       "      <td>1.000000</td>\n",
       "      <td>9382.033000</td>\n",
       "    </tr>\n",
       "    <tr>\n",
       "      <th>75%</th>\n",
       "      <td>51.000000</td>\n",
       "      <td>34.693750</td>\n",
       "      <td>2.000000</td>\n",
       "      <td>16639.912515</td>\n",
       "    </tr>\n",
       "    <tr>\n",
       "      <th>max</th>\n",
       "      <td>64.000000</td>\n",
       "      <td>53.130000</td>\n",
       "      <td>5.000000</td>\n",
       "      <td>63770.428010</td>\n",
       "    </tr>\n",
       "  </tbody>\n",
       "</table>\n",
       "</div>"
      ],
      "text/plain": [
       "               age          bmi     children       charges\n",
       "count  1338.000000  1338.000000  1338.000000   1338.000000\n",
       "mean     39.207025    30.663397     1.094918  13270.422265\n",
       "std      14.049960     6.098187     1.205493  12110.011237\n",
       "min      18.000000    15.960000     0.000000   1121.873900\n",
       "25%      27.000000    26.296250     0.000000   4740.287150\n",
       "50%      39.000000    30.400000     1.000000   9382.033000\n",
       "75%      51.000000    34.693750     2.000000  16639.912515\n",
       "max      64.000000    53.130000     5.000000  63770.428010"
      ]
     },
     "execution_count": 398,
     "metadata": {},
     "output_type": "execute_result"
    }
   ],
   "source": [
    "data_df.describe()"
   ]
  },
  {
   "cell_type": "code",
   "execution_count": 399,
   "id": "26641ca9",
   "metadata": {},
   "outputs": [],
   "source": [
    "# <DATA CLEANING>\n",
    "\n",
    "# Final notes:\n",
    "#- 1 duplicate removed,\n",
    "#- no Nan- values,\n",
    "#- no outliers, values have right formats and they make sense,\n",
    "#There is a 1:4 disproportion between smokers and non-smokers observed."
   ]
  },
  {
   "cell_type": "code",
   "execution_count": 400,
   "id": "c4d17247",
   "metadata": {},
   "outputs": [
    {
     "data": {
      "text/plain": [
       "True"
      ]
     },
     "execution_count": 400,
     "metadata": {},
     "output_type": "execute_result"
    }
   ],
   "source": [
    "#Checking for duplicates\n",
    "\n",
    "any(data_df.duplicated())"
   ]
  },
  {
   "cell_type": "code",
   "execution_count": 401,
   "id": "dd4ea424",
   "metadata": {},
   "outputs": [
    {
     "name": "stdout",
     "output_type": "stream",
     "text": [
      "Duplicate Rows :\n"
     ]
    },
    {
     "data": {
      "text/html": [
       "<div>\n",
       "<style scoped>\n",
       "    .dataframe tbody tr th:only-of-type {\n",
       "        vertical-align: middle;\n",
       "    }\n",
       "\n",
       "    .dataframe tbody tr th {\n",
       "        vertical-align: top;\n",
       "    }\n",
       "\n",
       "    .dataframe thead th {\n",
       "        text-align: right;\n",
       "    }\n",
       "</style>\n",
       "<table border=\"1\" class=\"dataframe\">\n",
       "  <thead>\n",
       "    <tr style=\"text-align: right;\">\n",
       "      <th></th>\n",
       "      <th>age</th>\n",
       "      <th>sex</th>\n",
       "      <th>bmi</th>\n",
       "      <th>children</th>\n",
       "      <th>smoker</th>\n",
       "      <th>region</th>\n",
       "      <th>charges</th>\n",
       "    </tr>\n",
       "  </thead>\n",
       "  <tbody>\n",
       "    <tr>\n",
       "      <th>581</th>\n",
       "      <td>19</td>\n",
       "      <td>male</td>\n",
       "      <td>30.59</td>\n",
       "      <td>0</td>\n",
       "      <td>no</td>\n",
       "      <td>northwest</td>\n",
       "      <td>1639.5631</td>\n",
       "    </tr>\n",
       "  </tbody>\n",
       "</table>\n",
       "</div>"
      ],
      "text/plain": [
       "     age   sex    bmi  children smoker     region    charges\n",
       "581   19  male  30.59         0     no  northwest  1639.5631"
      ]
     },
     "execution_count": 401,
     "metadata": {},
     "output_type": "execute_result"
    }
   ],
   "source": [
    "#Selecting duplicate rows except first occurrence based on all columns\n",
    "\n",
    "duplicate = data_df[data_df.duplicated()]      #alternative: duplicate = df[df.duplicated(['Name', 'Age'])] to look for duplicates in specific columns\n",
    "print(\"Duplicate Rows :\")\n",
    "duplicate"
   ]
  },
  {
   "cell_type": "code",
   "execution_count": 402,
   "id": "7b5c7978",
   "metadata": {},
   "outputs": [
    {
     "data": {
      "text/html": [
       "<div>\n",
       "<style scoped>\n",
       "    .dataframe tbody tr th:only-of-type {\n",
       "        vertical-align: middle;\n",
       "    }\n",
       "\n",
       "    .dataframe tbody tr th {\n",
       "        vertical-align: top;\n",
       "    }\n",
       "\n",
       "    .dataframe thead th {\n",
       "        text-align: right;\n",
       "    }\n",
       "</style>\n",
       "<table border=\"1\" class=\"dataframe\">\n",
       "  <thead>\n",
       "    <tr style=\"text-align: right;\">\n",
       "      <th></th>\n",
       "      <th>age</th>\n",
       "      <th>sex</th>\n",
       "      <th>bmi</th>\n",
       "      <th>children</th>\n",
       "      <th>smoker</th>\n",
       "      <th>region</th>\n",
       "      <th>charges</th>\n",
       "    </tr>\n",
       "  </thead>\n",
       "  <tbody>\n",
       "    <tr>\n",
       "      <th>0</th>\n",
       "      <td>19</td>\n",
       "      <td>female</td>\n",
       "      <td>27.900</td>\n",
       "      <td>0</td>\n",
       "      <td>yes</td>\n",
       "      <td>southwest</td>\n",
       "      <td>16884.92400</td>\n",
       "    </tr>\n",
       "    <tr>\n",
       "      <th>1</th>\n",
       "      <td>18</td>\n",
       "      <td>male</td>\n",
       "      <td>33.770</td>\n",
       "      <td>1</td>\n",
       "      <td>no</td>\n",
       "      <td>southeast</td>\n",
       "      <td>1725.55230</td>\n",
       "    </tr>\n",
       "    <tr>\n",
       "      <th>2</th>\n",
       "      <td>28</td>\n",
       "      <td>male</td>\n",
       "      <td>33.000</td>\n",
       "      <td>3</td>\n",
       "      <td>no</td>\n",
       "      <td>southeast</td>\n",
       "      <td>4449.46200</td>\n",
       "    </tr>\n",
       "    <tr>\n",
       "      <th>3</th>\n",
       "      <td>33</td>\n",
       "      <td>male</td>\n",
       "      <td>22.705</td>\n",
       "      <td>0</td>\n",
       "      <td>no</td>\n",
       "      <td>northwest</td>\n",
       "      <td>21984.47061</td>\n",
       "    </tr>\n",
       "    <tr>\n",
       "      <th>4</th>\n",
       "      <td>32</td>\n",
       "      <td>male</td>\n",
       "      <td>28.880</td>\n",
       "      <td>0</td>\n",
       "      <td>no</td>\n",
       "      <td>northwest</td>\n",
       "      <td>3866.85520</td>\n",
       "    </tr>\n",
       "    <tr>\n",
       "      <th>...</th>\n",
       "      <td>...</td>\n",
       "      <td>...</td>\n",
       "      <td>...</td>\n",
       "      <td>...</td>\n",
       "      <td>...</td>\n",
       "      <td>...</td>\n",
       "      <td>...</td>\n",
       "    </tr>\n",
       "    <tr>\n",
       "      <th>1333</th>\n",
       "      <td>50</td>\n",
       "      <td>male</td>\n",
       "      <td>30.970</td>\n",
       "      <td>3</td>\n",
       "      <td>no</td>\n",
       "      <td>northwest</td>\n",
       "      <td>10600.54830</td>\n",
       "    </tr>\n",
       "    <tr>\n",
       "      <th>1334</th>\n",
       "      <td>18</td>\n",
       "      <td>female</td>\n",
       "      <td>31.920</td>\n",
       "      <td>0</td>\n",
       "      <td>no</td>\n",
       "      <td>northeast</td>\n",
       "      <td>2205.98080</td>\n",
       "    </tr>\n",
       "    <tr>\n",
       "      <th>1335</th>\n",
       "      <td>18</td>\n",
       "      <td>female</td>\n",
       "      <td>36.850</td>\n",
       "      <td>0</td>\n",
       "      <td>no</td>\n",
       "      <td>southeast</td>\n",
       "      <td>1629.83350</td>\n",
       "    </tr>\n",
       "    <tr>\n",
       "      <th>1336</th>\n",
       "      <td>21</td>\n",
       "      <td>female</td>\n",
       "      <td>25.800</td>\n",
       "      <td>0</td>\n",
       "      <td>no</td>\n",
       "      <td>southwest</td>\n",
       "      <td>2007.94500</td>\n",
       "    </tr>\n",
       "    <tr>\n",
       "      <th>1337</th>\n",
       "      <td>61</td>\n",
       "      <td>female</td>\n",
       "      <td>29.070</td>\n",
       "      <td>0</td>\n",
       "      <td>yes</td>\n",
       "      <td>northwest</td>\n",
       "      <td>29141.36030</td>\n",
       "    </tr>\n",
       "  </tbody>\n",
       "</table>\n",
       "<p>1337 rows × 7 columns</p>\n",
       "</div>"
      ],
      "text/plain": [
       "      age     sex     bmi  children smoker     region      charges\n",
       "0      19  female  27.900         0    yes  southwest  16884.92400\n",
       "1      18    male  33.770         1     no  southeast   1725.55230\n",
       "2      28    male  33.000         3     no  southeast   4449.46200\n",
       "3      33    male  22.705         0     no  northwest  21984.47061\n",
       "4      32    male  28.880         0     no  northwest   3866.85520\n",
       "...   ...     ...     ...       ...    ...        ...          ...\n",
       "1333   50    male  30.970         3     no  northwest  10600.54830\n",
       "1334   18  female  31.920         0     no  northeast   2205.98080\n",
       "1335   18  female  36.850         0     no  southeast   1629.83350\n",
       "1336   21  female  25.800         0     no  southwest   2007.94500\n",
       "1337   61  female  29.070         0    yes  northwest  29141.36030\n",
       "\n",
       "[1337 rows x 7 columns]"
      ]
     },
     "execution_count": 402,
     "metadata": {},
     "output_type": "execute_result"
    }
   ],
   "source": [
    "#Duplicates removal\n",
    "\n",
    "data_df.drop_duplicates()"
   ]
  },
  {
   "cell_type": "code",
   "execution_count": 403,
   "id": "e76ca32d",
   "metadata": {},
   "outputs": [
    {
     "data": {
      "text/plain": [
       "True"
      ]
     },
     "execution_count": 403,
     "metadata": {},
     "output_type": "execute_result"
    }
   ],
   "source": [
    "# Checking for NaN-values ??????????????????????????????????????????????\n",
    "\n",
    "any(data_df.isna())"
   ]
  },
  {
   "cell_type": "code",
   "execution_count": 404,
   "id": "12d1acf2",
   "metadata": {},
   "outputs": [
    {
     "data": {
      "text/html": [
       "<div>\n",
       "<style scoped>\n",
       "    .dataframe tbody tr th:only-of-type {\n",
       "        vertical-align: middle;\n",
       "    }\n",
       "\n",
       "    .dataframe tbody tr th {\n",
       "        vertical-align: top;\n",
       "    }\n",
       "\n",
       "    .dataframe thead th {\n",
       "        text-align: right;\n",
       "    }\n",
       "</style>\n",
       "<table border=\"1\" class=\"dataframe\">\n",
       "  <thead>\n",
       "    <tr style=\"text-align: right;\">\n",
       "      <th></th>\n",
       "      <th>age</th>\n",
       "      <th>sex</th>\n",
       "      <th>bmi</th>\n",
       "      <th>children</th>\n",
       "      <th>smoker</th>\n",
       "      <th>region</th>\n",
       "      <th>charges</th>\n",
       "    </tr>\n",
       "  </thead>\n",
       "  <tbody>\n",
       "  </tbody>\n",
       "</table>\n",
       "</div>"
      ],
      "text/plain": [
       "Empty DataFrame\n",
       "Columns: [age, sex, bmi, children, smoker, region, charges]\n",
       "Index: []"
      ]
     },
     "execution_count": 404,
     "metadata": {},
     "output_type": "execute_result"
    }
   ],
   "source": [
    "data_df[data_df.isna().any(axis=1)]"
   ]
  },
  {
   "cell_type": "code",
   "execution_count": 405,
   "id": "0a48ca3f",
   "metadata": {},
   "outputs": [
    {
     "data": {
      "text/html": [
       "<div>\n",
       "<style scoped>\n",
       "    .dataframe tbody tr th:only-of-type {\n",
       "        vertical-align: middle;\n",
       "    }\n",
       "\n",
       "    .dataframe tbody tr th {\n",
       "        vertical-align: top;\n",
       "    }\n",
       "\n",
       "    .dataframe thead th {\n",
       "        text-align: right;\n",
       "    }\n",
       "</style>\n",
       "<table border=\"1\" class=\"dataframe\">\n",
       "  <thead>\n",
       "    <tr style=\"text-align: right;\">\n",
       "      <th></th>\n",
       "      <th>age</th>\n",
       "      <th>sex</th>\n",
       "      <th>bmi</th>\n",
       "      <th>children</th>\n",
       "      <th>smoker</th>\n",
       "      <th>region</th>\n",
       "      <th>charges</th>\n",
       "    </tr>\n",
       "  </thead>\n",
       "  <tbody>\n",
       "  </tbody>\n",
       "</table>\n",
       "</div>"
      ],
      "text/plain": [
       "Empty DataFrame\n",
       "Columns: [age, sex, bmi, children, smoker, region, charges]\n",
       "Index: []"
      ]
     },
     "execution_count": 405,
     "metadata": {},
     "output_type": "execute_result"
    }
   ],
   "source": [
    "data_df[data_df.isnull().any(axis=1)]"
   ]
  },
  {
   "cell_type": "code",
   "execution_count": 406,
   "id": "9c22771b",
   "metadata": {},
   "outputs": [
    {
     "data": {
      "text/plain": [
       "array(['yes', 'no'], dtype=object)"
      ]
     },
     "execution_count": 406,
     "metadata": {},
     "output_type": "execute_result"
    }
   ],
   "source": [
    "# Looking for outliers\n",
    "\n",
    "data_df['smoker'].unique()"
   ]
  },
  {
   "cell_type": "code",
   "execution_count": 407,
   "id": "f826beb2",
   "metadata": {},
   "outputs": [
    {
     "data": {
      "text/plain": [
       "array([0, 1, 3, 2, 5, 4], dtype=int64)"
      ]
     },
     "execution_count": 407,
     "metadata": {},
     "output_type": "execute_result"
    }
   ],
   "source": [
    "data_df['children'].unique()"
   ]
  },
  {
   "cell_type": "code",
   "execution_count": 408,
   "id": "a2966c10",
   "metadata": {},
   "outputs": [
    {
     "data": {
      "text/plain": [
       "array(['female', 'male'], dtype=object)"
      ]
     },
     "execution_count": 408,
     "metadata": {},
     "output_type": "execute_result"
    }
   ],
   "source": [
    "data_df['sex'].unique()"
   ]
  },
  {
   "cell_type": "code",
   "execution_count": 409,
   "id": "bbff170b",
   "metadata": {},
   "outputs": [
    {
     "data": {
      "text/plain": [
       "array([19, 18, 28, 33, 32, 31, 46, 37, 60, 25, 62, 23, 56, 27, 52, 30, 34,\n",
       "       59, 63, 55, 22, 26, 35, 24, 41, 38, 36, 21, 48, 40, 58, 53, 43, 64,\n",
       "       20, 61, 44, 57, 29, 45, 54, 49, 47, 51, 42, 50, 39], dtype=int64)"
      ]
     },
     "execution_count": 409,
     "metadata": {},
     "output_type": "execute_result"
    }
   ],
   "source": [
    "data_df['age'].unique()"
   ]
  },
  {
   "cell_type": "code",
   "execution_count": 410,
   "id": "61a07bfe",
   "metadata": {},
   "outputs": [
    {
     "data": {
      "text/plain": [
       "array(['southwest', 'southeast', 'northwest', 'northeast'], dtype=object)"
      ]
     },
     "execution_count": 410,
     "metadata": {},
     "output_type": "execute_result"
    }
   ],
   "source": [
    "data_df['region'].unique()"
   ]
  },
  {
   "cell_type": "code",
   "execution_count": 411,
   "id": "e8e9a94c",
   "metadata": {},
   "outputs": [
    {
     "data": {
      "text/plain": [
       "array([16884.924 ,  1725.5523,  4449.462 , ...,  1629.8335,  2007.945 ,\n",
       "       29141.3603])"
      ]
     },
     "execution_count": 411,
     "metadata": {},
     "output_type": "execute_result"
    }
   ],
   "source": [
    "data_df['charges'].unique()"
   ]
  },
  {
   "cell_type": "code",
   "execution_count": 412,
   "id": "f03a73ff",
   "metadata": {},
   "outputs": [
    {
     "data": {
      "text/plain": [
       "1122"
      ]
     },
     "execution_count": 412,
     "metadata": {},
     "output_type": "execute_result"
    }
   ],
   "source": [
    "charges_min=round(data_df['charges'].min())\n",
    "charges_min"
   ]
  },
  {
   "cell_type": "code",
   "execution_count": 413,
   "id": "baa14c1c",
   "metadata": {},
   "outputs": [
    {
     "data": {
      "text/plain": [
       "63770"
      ]
     },
     "execution_count": 413,
     "metadata": {},
     "output_type": "execute_result"
    }
   ],
   "source": [
    "charges_max=round(data_df['charges'].max())\n",
    "charges_max"
   ]
  },
  {
   "cell_type": "code",
   "execution_count": 414,
   "id": "3abf058d",
   "metadata": {},
   "outputs": [
    {
     "data": {
      "text/plain": [
       "13270"
      ]
     },
     "execution_count": 414,
     "metadata": {},
     "output_type": "execute_result"
    }
   ],
   "source": [
    "charges_mean=round(data_df['charges'].mean())\n",
    "charges_mean"
   ]
  },
  {
   "cell_type": "code",
   "execution_count": 415,
   "id": "8ed35857",
   "metadata": {},
   "outputs": [
    {
     "data": {
      "text/plain": [
       "4740"
      ]
     },
     "execution_count": 415,
     "metadata": {},
     "output_type": "execute_result"
    }
   ],
   "source": [
    "charges_quantile25=round(data_df['charges'].quantile(q=0.25))\n",
    "charges_quantile25"
   ]
  },
  {
   "cell_type": "code",
   "execution_count": 416,
   "id": "9f0a4db7",
   "metadata": {},
   "outputs": [
    {
     "data": {
      "text/plain": [
       "9382"
      ]
     },
     "execution_count": 416,
     "metadata": {},
     "output_type": "execute_result"
    }
   ],
   "source": [
    "charges_quantile50=round(data_df['charges'].quantile(q=0.5))\n",
    "charges_quantile50"
   ]
  },
  {
   "cell_type": "code",
   "execution_count": 417,
   "id": "2101d4ea",
   "metadata": {},
   "outputs": [
    {
     "data": {
      "text/plain": [
       "16640"
      ]
     },
     "execution_count": 417,
     "metadata": {},
     "output_type": "execute_result"
    }
   ],
   "source": [
    "charges_quantile75=round(data_df['charges'].quantile(q=0.75))\n",
    "charges_quantile75"
   ]
  },
  {
   "cell_type": "code",
   "execution_count": 418,
   "id": "da8e8168",
   "metadata": {},
   "outputs": [
    {
     "data": {
      "text/plain": [
       "12105.48"
      ]
     },
     "execution_count": 418,
     "metadata": {},
     "output_type": "execute_result"
    }
   ],
   "source": [
    "charges_standard_dev=round(np.std(data_df['charges']),2)\n",
    "charges_standard_dev"
   ]
  },
  {
   "cell_type": "code",
   "execution_count": 419,
   "id": "b3ca383f",
   "metadata": {},
   "outputs": [
    {
     "data": {
      "text/html": [
       "<div>\n",
       "<style scoped>\n",
       "    .dataframe tbody tr th:only-of-type {\n",
       "        vertical-align: middle;\n",
       "    }\n",
       "\n",
       "    .dataframe tbody tr th {\n",
       "        vertical-align: top;\n",
       "    }\n",
       "\n",
       "    .dataframe thead th {\n",
       "        text-align: right;\n",
       "    }\n",
       "</style>\n",
       "<table border=\"1\" class=\"dataframe\">\n",
       "  <thead>\n",
       "    <tr style=\"text-align: right;\">\n",
       "      <th></th>\n",
       "      <th>y_min</th>\n",
       "      <th>y_max</th>\n",
       "      <th>y_mean</th>\n",
       "      <th>charges_quantile25</th>\n",
       "      <th>charges_quantile50</th>\n",
       "      <th>charges_quantile75</th>\n",
       "      <th>y_standard_dev</th>\n",
       "    </tr>\n",
       "  </thead>\n",
       "  <tbody>\n",
       "    <tr>\n",
       "      <th>0</th>\n",
       "      <td>1122</td>\n",
       "      <td>63770</td>\n",
       "      <td>13270</td>\n",
       "      <td>4740</td>\n",
       "      <td>9382</td>\n",
       "      <td>16640</td>\n",
       "      <td>12105.48</td>\n",
       "    </tr>\n",
       "  </tbody>\n",
       "</table>\n",
       "</div>"
      ],
      "text/plain": [
       "   y_min  y_max  y_mean  charges_quantile25  charges_quantile50  \\\n",
       "0   1122  63770   13270                4740                9382   \n",
       "\n",
       "   charges_quantile75  y_standard_dev  \n",
       "0               16640        12105.48  "
      ]
     },
     "execution_count": 419,
     "metadata": {},
     "output_type": "execute_result"
    }
   ],
   "source": [
    "#Statistics summary for the data:\n",
    "\n",
    "statistics_data= {\n",
    "    \"y_min\": [charges_min],\n",
    "    \"y_max\": [charges_max],\n",
    "    \"y_mean\": [charges_mean],\n",
    "    \"charges_quantile25\": [charges_quantile25],\n",
    "    \"charges_quantile50\": [charges_quantile50],\n",
    "    \"charges_quantile75\": [charges_quantile75],\n",
    "    \"y_standard_dev\": [charges_standard_dev],\n",
    "    \n",
    "}\n",
    "\n",
    "statistics_df=pd.DataFrame(statistics_data)\n",
    "statistics_df"
   ]
  },
  {
   "cell_type": "code",
   "execution_count": 420,
   "id": "4bfdfed0",
   "metadata": {},
   "outputs": [
    {
     "data": {
      "image/png": "[encoded data removed]",
      "text/plain": [
       "<Figure size 432x288 with 1 Axes>"
      ]
     },
     "metadata": {
      "needs_background": "light"
     },
     "output_type": "display_data"
    }
   ],
   "source": [
    "# Picturing charges on the plot\n",
    "# No outstanding outliers found\n",
    "\n",
    "import matplotlib.pyplot as plt\n",
    "\n",
    "plt.scatter(data_df.index, data_df['charges'])\n",
    "\n",
    "plt.title('Charges paid visualization')\n",
    "plt.xlabel('Indexes (persons)', fontsize=14)\n",
    "plt.ylabel('Charges paid', fontsize=14)\n",
    "\n",
    "plt.show()"
   ]
  },
  {
   "cell_type": "code",
   "execution_count": 421,
   "id": "74e29d0d",
   "metadata": {},
   "outputs": [
    {
     "name": "stdout",
     "output_type": "stream",
     "text": [
      "Number od smokers:  274\n",
      "Number of non-smokers:  1064\n"
     ]
    }
   ],
   "source": [
    "#Checking whether the dataset is balanced when it comes to smokers/non-smokers\n",
    "#The dataset is not balanced, there is a favourable number of non-smokers\n",
    "\n",
    "smoker=0\n",
    "non_smoker=0\n",
    "\n",
    "for person in data_df[\"smoker\"]:\n",
    "    if person== \"yes\":\n",
    "        smoker +=1\n",
    "    else:\n",
    "        non_smoker +=1\n",
    "\n",
    "print(\"Number od smokers: \", smoker)\n",
    "print(\"Number of non-smokers: \", non_smoker)"
   ]
  },
  {
   "cell_type": "code",
   "execution_count": 422,
   "id": "3b3c6313",
   "metadata": {},
   "outputs": [],
   "source": [
    "# <Exploratory Data Analysis (EDA)>\n",
    "# conducted in a separated .ipynb file (Colaboratory file) on github"
   ]
  },
  {
   "cell_type": "code",
   "execution_count": 423,
   "id": "41056a2c",
   "metadata": {},
   "outputs": [],
   "source": [
    "# <Feature engineering and Modelling>\n",
    "\n",
    "import numpy as np\n",
    "\n",
    "from sklearn.model_selection import train_test_split\n",
    "from sklearn import linear_model\n",
    "from sklearn.metrics import mean_squared_error, r2_score"
   ]
  },
  {
   "cell_type": "code",
   "execution_count": 424,
   "id": "7b13dd64",
   "metadata": {},
   "outputs": [
    {
     "name": "stdout",
     "output_type": "stream",
     "text": [
      "X_dummies:        smoker_no  smoker_yes\n",
      "0             0           1\n",
      "1             1           0\n",
      "2             1           0\n",
      "3             1           0\n",
      "4             1           0\n",
      "...         ...         ...\n",
      "1333          1           0\n",
      "1334          1           0\n",
      "1335          1           0\n",
      "1336          1           0\n",
      "1337          0           1\n",
      "\n",
      "[1338 rows x 2 columns]\n"
     ]
    }
   ],
   "source": [
    "# 1. MODEL 1: Model including one input variable \"Smoker\" (referring to smoking) and one output variable (target) \"Charges\"\n",
    "\n",
    "X = data_df[['smoker']]\n",
    "y = data_df['charges']\n",
    "\n",
    "# One-hot encoding of variable X\n",
    "\n",
    "X_dummies = pd.get_dummies(X)\n",
    "print(\"X_dummies: \", X_dummies)"
   ]
  },
  {
   "cell_type": "code",
   "execution_count": 425,
   "id": "aefff0f2",
   "metadata": {},
   "outputs": [
    {
     "name": "stdout",
     "output_type": "stream",
     "text": [
      "X_train:       smoker_no  smoker_yes\n",
      "621           0           1\n",
      "194           1           0\n",
      "240           0           1\n",
      "1168          1           0\n",
      "1192          1           0\n",
      "...         ...         ...\n",
      "763           1           0\n",
      "835           1           0\n",
      "1216          1           0\n",
      "559           1           0\n",
      "684           1           0\n",
      "\n",
      "[1070 rows x 2 columns]\n",
      "y_train: 621     40182.24600\n",
      "194      1137.46970\n",
      "240     38511.62830\n",
      "1168     4670.64000\n",
      "1192    13019.16105\n",
      "           ...     \n",
      "763      3070.80870\n",
      "835      7160.33030\n",
      "1216     5415.66120\n",
      "559      1646.42970\n",
      "684      4766.02200\n",
      "Name: charges, Length: 1070, dtype: float64\n"
     ]
    }
   ],
   "source": [
    "# train-test split\n",
    "X_train, X_test, y_train, y_test = train_test_split(X_dummies, y, test_size=0.2, random_state=0)\n",
    "\n",
    "print(\"X_train:\" , X_train)\n",
    "print(\"y_train:\", y_train)"
   ]
  },
  {
   "cell_type": "code",
   "execution_count": 426,
   "id": "9929cd2e",
   "metadata": {},
   "outputs": [
    {
     "name": "stdout",
     "output_type": "stream",
     "text": [
      "X_test:       smoker_no  smoker_yes\n",
      "578           1           0\n",
      "610           1           0\n",
      "569           0           1\n",
      "1034          1           0\n",
      "198           1           0\n",
      "...         ...         ...\n",
      "1084          1           0\n",
      "726           1           0\n",
      "1132          1           0\n",
      "725           0           1\n",
      "963           1           0\n",
      "\n",
      "[268 rows x 2 columns]\n",
      "y_test: 578      9724.53000\n",
      "610      8547.69130\n",
      "569     45702.02235\n",
      "1034    12950.07120\n",
      "198      9644.25250\n",
      "           ...     \n",
      "1084    15019.76005\n",
      "726      6664.68595\n",
      "1132    20709.02034\n",
      "725     40932.42950\n",
      "963      9500.57305\n",
      "Name: charges, Length: 268, dtype: float64\n"
     ]
    }
   ],
   "source": [
    "print(\"X_test:\" , X_test)\n",
    "print(\"y_test:\", y_test)"
   ]
  },
  {
   "cell_type": "code",
   "execution_count": 427,
   "id": "f6a75f00",
   "metadata": {},
   "outputs": [
    {
     "name": "stdout",
     "output_type": "stream",
     "text": [
      "y =  -1.1830338256024368e+17  +  [1.18303383e+17 1.18303383e+17] x\n"
     ]
    }
   ],
   "source": [
    "# Choosing a regression model (Linear Regression) and training the model\n",
    "\n",
    "regr = linear_model.LinearRegression()\n",
    "\n",
    "regr.fit(X_train, y_train)\n",
    "\n",
    "# The Regression Function no.1 looks as follows:\n",
    "print(\"y = \", regr.intercept_, \" + \", regr.coef_, \"x\")"
   ]
  },
  {
   "cell_type": "code",
   "execution_count": 428,
   "id": "56f71550",
   "metadata": {},
   "outputs": [],
   "source": [
    "# Getting the prediction\n",
    "\n",
    "#Prediction for training data:\n",
    "y_train_pred = regr.predict(X_train) \n",
    "#Prediction for test data:\n",
    "y_test_pred = regr.predict(X_test)"
   ]
  },
  {
   "cell_type": "code",
   "execution_count": 429,
   "id": "ecc4da78",
   "metadata": {},
   "outputs": [
    {
     "name": "stdout",
     "output_type": "stream",
     "text": [
      "MSE on train data (Model 1): 56800240.51, MSE on test data (Model1) : 52630321.58\n"
     ]
    }
   ],
   "source": [
    "# Model evaluation: metrics\n",
    "\n",
    "#Mean Squarred Error (MSE):\n",
    "\n",
    "MSE_train_1= round(mean_squared_error(y_train, y_train_pred, squared=True),2)\n",
    "MSE_test_1= round(mean_squared_error(y_test, y_test_pred, squared=True),2)\n",
    "\n",
    "print(f'MSE on train data (Model 1): {MSE_train_1}, MSE on test data (Model1) : {MSE_test_1}')"
   ]
  },
  {
   "cell_type": "code",
   "execution_count": 430,
   "id": "ffb3a27b",
   "metadata": {},
   "outputs": [
    {
     "name": "stdout",
     "output_type": "stream",
     "text": [
      "RMSE on train data (Model 1): 7536.59, RMSE on test data (Model1) : 7254.68\n"
     ]
    }
   ],
   "source": [
    "#Root Mean Squarred Error (RMSE):\n",
    "\n",
    "RMSE_train_1= round(mean_squared_error(y_train, y_train_pred, squared=False),2)\n",
    "RMSE_test_1= round(mean_squared_error(y_test, y_test_pred, squared=False),2)\n",
    "\n",
    "print(f'RMSE on train data (Model 1): {RMSE_train_1}, RMSE on test data (Model1) : {RMSE_test_1}')"
   ]
  },
  {
   "cell_type": "code",
   "execution_count": 431,
   "id": "db495a71",
   "metadata": {},
   "outputs": [
    {
     "name": "stdout",
     "output_type": "stream",
     "text": [
      "R^2 on train data (Model 1): 0.6, R^2 on test data (Model 1) : 0.67\n"
     ]
    }
   ],
   "source": [
    "#Coeficient of determination (R^2)\n",
    "\n",
    "R2_train_1= round(r2_score(y_train, y_train_pred),2)\n",
    "R2_test_1= round(r2_score(y_test, y_test_pred),2)\n",
    "\n",
    "print(f'R^2 on train data (Model 1): {R2_train_1}, R^2 on test data (Model 1) : {R2_test_1}')"
   ]
  },
  {
   "cell_type": "code",
   "execution_count": 432,
   "id": "51d60e53",
   "metadata": {},
   "outputs": [
    {
     "data": {
      "text/html": [
       "<div>\n",
       "<style scoped>\n",
       "    .dataframe tbody tr th:only-of-type {\n",
       "        vertical-align: middle;\n",
       "    }\n",
       "\n",
       "    .dataframe tbody tr th {\n",
       "        vertical-align: top;\n",
       "    }\n",
       "\n",
       "    .dataframe thead th {\n",
       "        text-align: right;\n",
       "    }\n",
       "</style>\n",
       "<table border=\"1\" class=\"dataframe\">\n",
       "  <thead>\n",
       "    <tr style=\"text-align: right;\">\n",
       "      <th></th>\n",
       "      <th>Model number</th>\n",
       "      <th>MSE_train</th>\n",
       "      <th>MSE_test</th>\n",
       "      <th>RMSE_train</th>\n",
       "      <th>RMSE_test</th>\n",
       "      <th>R^2_train</th>\n",
       "      <th>R^2_test</th>\n",
       "      <th>Mean_test</th>\n",
       "      <th>Std_test</th>\n",
       "      <th>Characteristics</th>\n",
       "    </tr>\n",
       "  </thead>\n",
       "  <tbody>\n",
       "    <tr>\n",
       "      <th>0</th>\n",
       "      <td>Model 1</td>\n",
       "      <td>56800240.51</td>\n",
       "      <td>52630321.58</td>\n",
       "      <td>7536.59</td>\n",
       "      <td>7254.68</td>\n",
       "      <td>0.6</td>\n",
       "      <td>0.67</td>\n",
       "      <td>13221.01</td>\n",
       "      <td>9063.5</td>\n",
       "      <td>input variable: 'Smoker'</td>\n",
       "    </tr>\n",
       "  </tbody>\n",
       "</table>\n",
       "</div>"
      ],
      "text/plain": [
       "  Model number    MSE_train     MSE_test  RMSE_train  RMSE_test  R^2_train  \\\n",
       "0      Model 1  56800240.51  52630321.58     7536.59    7254.68        0.6   \n",
       "\n",
       "   R^2_test  Mean_test  Std_test           Characteristics  \n",
       "0      0.67   13221.01    9063.5  input variable: 'Smoker'  "
      ]
     },
     "execution_count": 432,
     "metadata": {},
     "output_type": "execute_result"
    }
   ],
   "source": [
    "#Metrics summary:\n",
    "\n",
    "metrics_data= {\n",
    "    \"Model number\": [\"Model 1\"],\n",
    "    \"MSE_train\" : [MSE_train_1],\n",
    "    \"MSE_test\" : [MSE_test_1],\n",
    "    \"RMSE_train\" : [RMSE_train_1],\n",
    "    \"RMSE_test\" :[RMSE_test_1],\n",
    "    \"R^2_train\" :[R2_train_1],\n",
    "    \"R^2_test\" :[R2_test_1],\n",
    "    \"Mean_test\": [round(statistics.mean(y_test_pred),2)],\n",
    "    \"Std_test\": [round(statistics.stdev(y_test_pred),2)],\n",
    "    \"Characteristics\" : [\"input variable: 'Smoker'\"],\n",
    "}\n",
    "\n",
    "metrics_df= pd.DataFrame(data=metrics_data)\n",
    "metrics_df"
   ]
  },
  {
   "cell_type": "code",
   "execution_count": 433,
   "id": "3fdad552",
   "metadata": {},
   "outputs": [
    {
     "name": "stdout",
     "output_type": "stream",
     "text": [
      "X_dummies:           bmi  smoker_no  smoker_yes\n",
      "0     27.900          0           1\n",
      "1     33.770          1           0\n",
      "2     33.000          1           0\n",
      "3     22.705          1           0\n",
      "4     28.880          1           0\n",
      "...      ...        ...         ...\n",
      "1333  30.970          1           0\n",
      "1334  31.920          1           0\n",
      "1335  36.850          1           0\n",
      "1336  25.800          1           0\n",
      "1337  29.070          0           1\n",
      "\n",
      "[1338 rows x 3 columns]\n"
     ]
    }
   ],
   "source": [
    "# 2. MODEL 2: Model including two input variables \"Smoker\" (referring to smoking), \"BMI\"  and one output variable (target) \"Charges\"\n",
    "\n",
    "X = data_df[['smoker','bmi']]\n",
    "y = data_df['charges']\n",
    "\n",
    "# One-hot encoding of variable X\n",
    "\n",
    "X_dummies = pd.get_dummies(X)\n",
    "print(\"X_dummies: \", X_dummies)"
   ]
  },
  {
   "cell_type": "code",
   "execution_count": 434,
   "id": "34fc94a0",
   "metadata": {},
   "outputs": [],
   "source": [
    "# train-test split\n",
    "X_train, X_test, y_train, y_test = train_test_split(X_dummies, y, test_size=0.2, random_state=0)"
   ]
  },
  {
   "cell_type": "code",
   "execution_count": 435,
   "id": "643f17d0",
   "metadata": {},
   "outputs": [
    {
     "name": "stdout",
     "output_type": "stream",
     "text": [
      "y =  8158.933531337067  +  [   386.94616325 -11593.67835295  11593.67835295] x\n"
     ]
    }
   ],
   "source": [
    "# Choosing a regression model (Linear Regression) and training the model\n",
    "\n",
    "regr2 = linear_model.LinearRegression()\n",
    "\n",
    "regr2.fit(X_train, y_train)\n",
    "\n",
    "# The Regression Function no.2 looks as follows:\n",
    "print(\"y = \", regr2.intercept_, \" + \", regr2.coef_, \"x\")"
   ]
  },
  {
   "cell_type": "code",
   "execution_count": 436,
   "id": "22119a81",
   "metadata": {},
   "outputs": [],
   "source": [
    "# Getting the prediction\n",
    "\n",
    "#Prediction for training data:\n",
    "y_train_pred = regr2.predict(X_train) \n",
    "#Prediction for test data:\n",
    "y_test_pred = regr2.predict(X_test)"
   ]
  },
  {
   "cell_type": "code",
   "execution_count": 437,
   "id": "39f8f808",
   "metadata": {},
   "outputs": [
    {
     "data": {
      "text/html": [
       "<div>\n",
       "<style scoped>\n",
       "    .dataframe tbody tr th:only-of-type {\n",
       "        vertical-align: middle;\n",
       "    }\n",
       "\n",
       "    .dataframe tbody tr th {\n",
       "        vertical-align: top;\n",
       "    }\n",
       "\n",
       "    .dataframe thead th {\n",
       "        text-align: right;\n",
       "    }\n",
       "</style>\n",
       "<table border=\"1\" class=\"dataframe\">\n",
       "  <thead>\n",
       "    <tr style=\"text-align: right;\">\n",
       "      <th></th>\n",
       "      <th>Model number</th>\n",
       "      <th>MSE_train</th>\n",
       "      <th>MSE_test</th>\n",
       "      <th>RMSE_train</th>\n",
       "      <th>RMSE_test</th>\n",
       "      <th>R^2_train</th>\n",
       "      <th>R^2_test</th>\n",
       "      <th>Mean_test</th>\n",
       "      <th>Std_test</th>\n",
       "      <th>Characteristics</th>\n",
       "    </tr>\n",
       "  </thead>\n",
       "  <tbody>\n",
       "    <tr>\n",
       "      <th>0</th>\n",
       "      <td>Model 1</td>\n",
       "      <td>56800240.51</td>\n",
       "      <td>52630321.58</td>\n",
       "      <td>7536.59</td>\n",
       "      <td>7254.68</td>\n",
       "      <td>0.60</td>\n",
       "      <td>0.67</td>\n",
       "      <td>13221.01</td>\n",
       "      <td>9063.50</td>\n",
       "      <td>input variable: 'Smoker'</td>\n",
       "    </tr>\n",
       "    <tr>\n",
       "      <th>0</th>\n",
       "      <td>Model 2</td>\n",
       "      <td>51004166.22</td>\n",
       "      <td>46797181.74</td>\n",
       "      <td>7141.72</td>\n",
       "      <td>6840.85</td>\n",
       "      <td>0.64</td>\n",
       "      <td>0.71</td>\n",
       "      <td>13089.05</td>\n",
       "      <td>9865.19</td>\n",
       "      <td>input variables: 'Smoker','BMI'</td>\n",
       "    </tr>\n",
       "  </tbody>\n",
       "</table>\n",
       "</div>"
      ],
      "text/plain": [
       "  Model number    MSE_train     MSE_test  RMSE_train  RMSE_test  R^2_train  \\\n",
       "0      Model 1  56800240.51  52630321.58     7536.59    7254.68       0.60   \n",
       "0      Model 2  51004166.22  46797181.74     7141.72    6840.85       0.64   \n",
       "\n",
       "   R^2_test  Mean_test  Std_test                  Characteristics  \n",
       "0      0.67   13221.01   9063.50         input variable: 'Smoker'  \n",
       "0      0.71   13089.05   9865.19  input variables: 'Smoker','BMI'  "
      ]
     },
     "execution_count": 437,
     "metadata": {},
     "output_type": "execute_result"
    }
   ],
   "source": [
    "# Model evaluation: metrics\n",
    "\n",
    "#Mean Squarred Error (MSE):\n",
    "\n",
    "MSE_train_2= round(mean_squared_error(y_train, y_train_pred, squared=True),2)\n",
    "MSE_test_2= round(mean_squared_error(y_test, y_test_pred, squared=True),2)\n",
    "\n",
    "#Root Mean Squarred Error (RMSE):\n",
    "\n",
    "RMSE_train_2= round(mean_squared_error(y_train, y_train_pred, squared=False),2)\n",
    "RMSE_test_2= round(mean_squared_error(y_test, y_test_pred, squared=False),2)\n",
    "\n",
    "#Coeficient of determination (R^2)\n",
    "\n",
    "R2_train_2= round(r2_score(y_train, y_train_pred),2)\n",
    "R2_test_2= round(r2_score(y_test, y_test_pred),2)\n",
    "\n",
    "metrics_data2= {\n",
    "    \"Model number\": [\"Model 2\"],\n",
    "    \"MSE_train\" : [MSE_train_2],\n",
    "    \"MSE_test\" : [MSE_test_2],\n",
    "    \"RMSE_train\" : [RMSE_train_2],\n",
    "    \"RMSE_test\" :[RMSE_test_2],\n",
    "    \"R^2_train\" :[R2_train_2],\n",
    "    \"R^2_test\" :[R2_test_2],\n",
    "    \"Mean_test\": [round(statistics.mean(y_test_pred),2)],\n",
    "    \"Std_test\": [round(statistics.stdev(y_test_pred),2)],\n",
    "    \"Characteristics\" : [\"input variables: 'Smoker','BMI'\"],\n",
    "    }\n",
    "\n",
    "metrics_df2= pd.DataFrame(data=metrics_data2)\n",
    "pd.concat([metrics_df, metrics_df2])"
   ]
  },
  {
   "cell_type": "code",
   "execution_count": 438,
   "id": "c25aed6d",
   "metadata": {},
   "outputs": [
    {
     "name": "stdout",
     "output_type": "stream",
     "text": [
      "X_dummies:           bmi  age  smoker_no  smoker_yes\n",
      "0     27.900   19          0           1\n",
      "1     33.770   18          1           0\n",
      "2     33.000   28          1           0\n",
      "3     22.705   33          1           0\n",
      "4     28.880   32          1           0\n",
      "...      ...  ...        ...         ...\n",
      "1333  30.970   50          1           0\n",
      "1334  31.920   18          1           0\n",
      "1335  36.850   18          1           0\n",
      "1336  25.800   21          1           0\n",
      "1337  29.070   61          0           1\n",
      "\n",
      "[1338 rows x 4 columns]\n"
     ]
    }
   ],
   "source": [
    "# 3. MODEL 3: Model including three input variables \"Smoker\" (referring to smoking), \"BMI\", \"Age\"  and one output variable (target) \"Charges\"\n",
    "\n",
    "X = data_df[['smoker','bmi','age']]\n",
    "y = data_df['charges']\n",
    "\n",
    "# One-hot encoding of variable X\n",
    "\n",
    "X_dummies = pd.get_dummies(X)\n",
    "print(\"X_dummies: \", X_dummies)"
   ]
  },
  {
   "cell_type": "code",
   "execution_count": 439,
   "id": "db7c43fb",
   "metadata": {},
   "outputs": [],
   "source": [
    "# train-test split\n",
    "X_train, X_test, y_train, y_test = train_test_split(X_dummies, y, test_size=0.2, random_state=0)"
   ]
  },
  {
   "cell_type": "code",
   "execution_count": 440,
   "id": "aa52957f",
   "metadata": {},
   "outputs": [
    {
     "name": "stdout",
     "output_type": "stream",
     "text": [
      "y =  240.70922732869622  +  [   321.83997719    257.04066602 -11812.61724417  11812.61724417] x\n"
     ]
    }
   ],
   "source": [
    "# Choosing a regression model (Linear Regression) and training the model\n",
    "\n",
    "regr3 = linear_model.LinearRegression()\n",
    "\n",
    "regr3.fit(X_train, y_train)\n",
    "\n",
    "# The Regression Function no.3 looks as follows:\n",
    "print(\"y = \", regr3.intercept_, \" + \", regr3.coef_, \"x\")"
   ]
  },
  {
   "cell_type": "code",
   "execution_count": 441,
   "id": "9da529f4",
   "metadata": {},
   "outputs": [],
   "source": [
    "# Getting the prediction\n",
    "\n",
    "#Prediction for training data:\n",
    "y_train_pred = regr3.predict(X_train) \n",
    "#Prediction for test data:\n",
    "y_test_pred = regr3.predict(X_test)"
   ]
  },
  {
   "cell_type": "code",
   "execution_count": 442,
   "id": "11f478d4",
   "metadata": {},
   "outputs": [
    {
     "data": {
      "text/html": [
       "<div>\n",
       "<style scoped>\n",
       "    .dataframe tbody tr th:only-of-type {\n",
       "        vertical-align: middle;\n",
       "    }\n",
       "\n",
       "    .dataframe tbody tr th {\n",
       "        vertical-align: top;\n",
       "    }\n",
       "\n",
       "    .dataframe thead th {\n",
       "        text-align: right;\n",
       "    }\n",
       "</style>\n",
       "<table border=\"1\" class=\"dataframe\">\n",
       "  <thead>\n",
       "    <tr style=\"text-align: right;\">\n",
       "      <th></th>\n",
       "      <th>Model number</th>\n",
       "      <th>MSE_train</th>\n",
       "      <th>MSE_test</th>\n",
       "      <th>RMSE_train</th>\n",
       "      <th>RMSE_test</th>\n",
       "      <th>R^2_train</th>\n",
       "      <th>R^2_test</th>\n",
       "      <th>Mean_test</th>\n",
       "      <th>Std_test</th>\n",
       "      <th>Characteristics</th>\n",
       "    </tr>\n",
       "  </thead>\n",
       "  <tbody>\n",
       "    <tr>\n",
       "      <th>0</th>\n",
       "      <td>Model 1</td>\n",
       "      <td>56800240.51</td>\n",
       "      <td>52630321.58</td>\n",
       "      <td>7536.59</td>\n",
       "      <td>7254.68</td>\n",
       "      <td>0.60</td>\n",
       "      <td>0.67</td>\n",
       "      <td>13221.01</td>\n",
       "      <td>9063.50</td>\n",
       "      <td>input variable: 'Smoker'</td>\n",
       "    </tr>\n",
       "    <tr>\n",
       "      <th>0</th>\n",
       "      <td>Model 2</td>\n",
       "      <td>51004166.22</td>\n",
       "      <td>46797181.74</td>\n",
       "      <td>7141.72</td>\n",
       "      <td>6840.85</td>\n",
       "      <td>0.64</td>\n",
       "      <td>0.71</td>\n",
       "      <td>13089.05</td>\n",
       "      <td>9865.19</td>\n",
       "      <td>input variables: 'Smoker','BMI'</td>\n",
       "    </tr>\n",
       "    <tr>\n",
       "      <th>0</th>\n",
       "      <td>Model 3</td>\n",
       "      <td>38099093.84</td>\n",
       "      <td>32693237.94</td>\n",
       "      <td>6172.45</td>\n",
       "      <td>5717.80</td>\n",
       "      <td>0.73</td>\n",
       "      <td>0.79</td>\n",
       "      <td>13258.44</td>\n",
       "      <td>10865.36</td>\n",
       "      <td>input variables: 'Smoker','BMI','Age'</td>\n",
       "    </tr>\n",
       "  </tbody>\n",
       "</table>\n",
       "</div>"
      ],
      "text/plain": [
       "  Model number    MSE_train     MSE_test  RMSE_train  RMSE_test  R^2_train  \\\n",
       "0      Model 1  56800240.51  52630321.58     7536.59    7254.68       0.60   \n",
       "0      Model 2  51004166.22  46797181.74     7141.72    6840.85       0.64   \n",
       "0      Model 3  38099093.84  32693237.94     6172.45    5717.80       0.73   \n",
       "\n",
       "   R^2_test  Mean_test  Std_test                        Characteristics  \n",
       "0      0.67   13221.01   9063.50               input variable: 'Smoker'  \n",
       "0      0.71   13089.05   9865.19        input variables: 'Smoker','BMI'  \n",
       "0      0.79   13258.44  10865.36  input variables: 'Smoker','BMI','Age'  "
      ]
     },
     "execution_count": 442,
     "metadata": {},
     "output_type": "execute_result"
    }
   ],
   "source": [
    "# Model evaluation: metrics\n",
    "\n",
    "#Mean Squarred Error (MSE):\n",
    "\n",
    "MSE_train_3= round(mean_squared_error(y_train, y_train_pred, squared=True),2)\n",
    "MSE_test_3= round(mean_squared_error(y_test, y_test_pred, squared=True),2)\n",
    "\n",
    "#Root Mean Squarred Error (RMSE):\n",
    "\n",
    "RMSE_train_3= round(mean_squared_error(y_train, y_train_pred, squared=False),2)\n",
    "RMSE_test_3= round(mean_squared_error(y_test, y_test_pred, squared=False),2)\n",
    "\n",
    "#Coeficient of determination (R^2)\n",
    "\n",
    "R2_train_3= round(r2_score(y_train, y_train_pred),2)\n",
    "R2_test_3= round(r2_score(y_test, y_test_pred),2)\n",
    "\n",
    "metrics_data3= {\n",
    "    \"Model number\": [\"Model 3\"],\n",
    "    \"MSE_train\" : [MSE_train_3],\n",
    "    \"MSE_test\" : [MSE_test_3],\n",
    "    \"RMSE_train\" : [RMSE_train_3],\n",
    "    \"RMSE_test\" :[RMSE_test_3],\n",
    "    \"R^2_train\" :[R2_train_3],\n",
    "    \"R^2_test\" :[R2_test_3],\n",
    "    \"Mean_test\": [round(statistics.mean(y_test_pred),2)],\n",
    "    \"Std_test\": [round(statistics.stdev(y_test_pred),2)],\n",
    "    \"Characteristics\" : [\"input variables: 'Smoker','BMI','Age'\"],\n",
    "    }\n",
    "\n",
    "metrics_df3= pd.DataFrame(data=metrics_data3)\n",
    "pd.concat([metrics_df, metrics_df2, metrics_df3])"
   ]
  },
  {
   "cell_type": "code",
   "execution_count": 443,
   "id": "24f42a47",
   "metadata": {},
   "outputs": [
    {
     "name": "stdout",
     "output_type": "stream",
     "text": [
      "X_dummies:           bmi  age  children  smoker_no  smoker_yes\n",
      "0     27.900   19         0          0           1\n",
      "1     33.770   18         1          1           0\n",
      "2     33.000   28         3          1           0\n",
      "3     22.705   33         0          1           0\n",
      "4     28.880   32         0          1           0\n",
      "...      ...  ...       ...        ...         ...\n",
      "1333  30.970   50         3          1           0\n",
      "1334  31.920   18         0          1           0\n",
      "1335  36.850   18         0          1           0\n",
      "1336  25.800   21         0          1           0\n",
      "1337  29.070   61         0          0           1\n",
      "\n",
      "[1338 rows x 5 columns]\n"
     ]
    }
   ],
   "source": [
    "# 4. MODEL 4: Model including four input variables \"Smoker\" (referring to smoking), \"BMI\", \"Age\", \"Children\"  and one output variable (target) \"Charges\"\n",
    "\n",
    "X = data_df[['smoker','bmi','age','children']]\n",
    "y = data_df['charges']\n",
    "\n",
    "# One-hot encoding of variable X\n",
    "\n",
    "X_dummies = pd.get_dummies(X)\n",
    "print(\"X_dummies: \", X_dummies)"
   ]
  },
  {
   "cell_type": "code",
   "execution_count": 444,
   "id": "fc2e6afa",
   "metadata": {},
   "outputs": [
    {
     "name": "stdout",
     "output_type": "stream",
     "text": [
      "y =  -116.75959288404556  +  [   320.6190203     254.97145832    430.54569459 -11793.7785639\n",
      "  11793.7785639 ] x\n"
     ]
    }
   ],
   "source": [
    "# train-test split\n",
    "X_train, X_test, y_train, y_test = train_test_split(X_dummies, y, test_size=0.2, random_state=0)\n",
    "\n",
    "# Choosing a regression model (Linear Regression) and training the model\n",
    "\n",
    "regr4 = linear_model.LinearRegression()\n",
    "regr4.fit(X_train, y_train)\n",
    "\n",
    "# The egression function no.4 looks as follows:\n",
    "print(\"y = \", regr4.intercept_, \" + \", regr4.coef_, \"x\")"
   ]
  },
  {
   "cell_type": "code",
   "execution_count": 445,
   "id": "f7221c23",
   "metadata": {},
   "outputs": [],
   "source": [
    "# Getting the prediction\n",
    "\n",
    "#Prediction for training data:\n",
    "y_train_pred = regr4.predict(X_train) \n",
    "#Prediction for test data:\n",
    "y_test_pred = regr4.predict(X_test)"
   ]
  },
  {
   "cell_type": "code",
   "execution_count": 446,
   "id": "b5c49137",
   "metadata": {},
   "outputs": [
    {
     "data": {
      "text/html": [
       "<div>\n",
       "<style scoped>\n",
       "    .dataframe tbody tr th:only-of-type {\n",
       "        vertical-align: middle;\n",
       "    }\n",
       "\n",
       "    .dataframe tbody tr th {\n",
       "        vertical-align: top;\n",
       "    }\n",
       "\n",
       "    .dataframe thead th {\n",
       "        text-align: right;\n",
       "    }\n",
       "</style>\n",
       "<table border=\"1\" class=\"dataframe\">\n",
       "  <thead>\n",
       "    <tr style=\"text-align: right;\">\n",
       "      <th></th>\n",
       "      <th>Model number</th>\n",
       "      <th>MSE_train</th>\n",
       "      <th>MSE_test</th>\n",
       "      <th>RMSE_train</th>\n",
       "      <th>RMSE_test</th>\n",
       "      <th>R^2_train</th>\n",
       "      <th>R^2_test</th>\n",
       "      <th>Mean_test</th>\n",
       "      <th>Std_test</th>\n",
       "      <th>Characteristics</th>\n",
       "    </tr>\n",
       "  </thead>\n",
       "  <tbody>\n",
       "    <tr>\n",
       "      <th>0</th>\n",
       "      <td>Model 1</td>\n",
       "      <td>56800240.51</td>\n",
       "      <td>52630321.58</td>\n",
       "      <td>7536.59</td>\n",
       "      <td>7254.68</td>\n",
       "      <td>0.60</td>\n",
       "      <td>0.67</td>\n",
       "      <td>13221.01</td>\n",
       "      <td>9063.50</td>\n",
       "      <td>input variable: 'Smoker'</td>\n",
       "    </tr>\n",
       "    <tr>\n",
       "      <th>0</th>\n",
       "      <td>Model 2</td>\n",
       "      <td>51004166.22</td>\n",
       "      <td>46797181.74</td>\n",
       "      <td>7141.72</td>\n",
       "      <td>6840.85</td>\n",
       "      <td>0.64</td>\n",
       "      <td>0.71</td>\n",
       "      <td>13089.05</td>\n",
       "      <td>9865.19</td>\n",
       "      <td>input variables: 'Smoker','BMI'</td>\n",
       "    </tr>\n",
       "    <tr>\n",
       "      <th>0</th>\n",
       "      <td>Model 3</td>\n",
       "      <td>38099093.84</td>\n",
       "      <td>32693237.94</td>\n",
       "      <td>6172.45</td>\n",
       "      <td>5717.80</td>\n",
       "      <td>0.73</td>\n",
       "      <td>0.79</td>\n",
       "      <td>13258.44</td>\n",
       "      <td>10865.36</td>\n",
       "      <td>input variables: 'Smoker','BMI','Age'</td>\n",
       "    </tr>\n",
       "    <tr>\n",
       "      <th>0</th>\n",
       "      <td>Model 4</td>\n",
       "      <td>37828889.75</td>\n",
       "      <td>32171708.57</td>\n",
       "      <td>6150.52</td>\n",
       "      <td>5672.01</td>\n",
       "      <td>0.74</td>\n",
       "      <td>0.80</td>\n",
       "      <td>13290.90</td>\n",
       "      <td>10814.87</td>\n",
       "      <td>input variables: 'Smoker','BMI','Age','Children'</td>\n",
       "    </tr>\n",
       "  </tbody>\n",
       "</table>\n",
       "</div>"
      ],
      "text/plain": [
       "  Model number    MSE_train     MSE_test  RMSE_train  RMSE_test  R^2_train  \\\n",
       "0      Model 1  56800240.51  52630321.58     7536.59    7254.68       0.60   \n",
       "0      Model 2  51004166.22  46797181.74     7141.72    6840.85       0.64   \n",
       "0      Model 3  38099093.84  32693237.94     6172.45    5717.80       0.73   \n",
       "0      Model 4  37828889.75  32171708.57     6150.52    5672.01       0.74   \n",
       "\n",
       "   R^2_test  Mean_test  Std_test  \\\n",
       "0      0.67   13221.01   9063.50   \n",
       "0      0.71   13089.05   9865.19   \n",
       "0      0.79   13258.44  10865.36   \n",
       "0      0.80   13290.90  10814.87   \n",
       "\n",
       "                                    Characteristics  \n",
       "0                          input variable: 'Smoker'  \n",
       "0                   input variables: 'Smoker','BMI'  \n",
       "0             input variables: 'Smoker','BMI','Age'  \n",
       "0  input variables: 'Smoker','BMI','Age','Children'  "
      ]
     },
     "execution_count": 446,
     "metadata": {},
     "output_type": "execute_result"
    }
   ],
   "source": [
    "# Model evaluation: metrics\n",
    "\n",
    "#Mean Squarred Error (MSE):\n",
    "\n",
    "MSE_train_4= round(mean_squared_error(y_train, y_train_pred, squared=True),2)\n",
    "MSE_test_4= round(mean_squared_error(y_test, y_test_pred, squared=True),2)\n",
    "\n",
    "#Root Mean Squarred Error (RMSE):\n",
    "\n",
    "RMSE_train_4= round(mean_squared_error(y_train, y_train_pred, squared=False),2)\n",
    "RMSE_test_4= round(mean_squared_error(y_test, y_test_pred, squared=False),2)\n",
    "\n",
    "#Coeficient of determination (R^2)\n",
    "\n",
    "R2_train_4= round(r2_score(y_train, y_train_pred),2)\n",
    "R2_test_4= round(r2_score(y_test, y_test_pred),2)\n",
    "\n",
    "metrics_data4= {\n",
    "    \"Model number\": [\"Model 4\"],\n",
    "    \"MSE_train\" : [MSE_train_4],\n",
    "    \"MSE_test\" : [MSE_test_4],\n",
    "    \"RMSE_train\" : [RMSE_train_4],\n",
    "    \"RMSE_test\" :[RMSE_test_4],\n",
    "    \"R^2_train\" :[R2_train_4],\n",
    "    \"R^2_test\" :[R2_test_4],\n",
    "    \"Mean_test\": [round(statistics.mean(y_test_pred),2)],\n",
    "    \"Std_test\": [round(statistics.stdev(y_test_pred),2)],\n",
    "    \"Characteristics\" : [\"input variables: 'Smoker','BMI','Age','Children'\"],\n",
    "    }\n",
    "\n",
    "metrics_df4= pd.DataFrame(data=metrics_data4)\n",
    "pd.concat([metrics_df, metrics_df2, metrics_df3, metrics_df4])"
   ]
  },
  {
   "cell_type": "code",
   "execution_count": 447,
   "id": "a9c289b7",
   "metadata": {},
   "outputs": [
    {
     "name": "stdout",
     "output_type": "stream",
     "text": [
      "X_dummies:           bmi  age  children  smoker_no  smoker_yes  sex_female  sex_male\n",
      "0     27.900   19         0          0           1           1         0\n",
      "1     33.770   18         1          1           0           0         1\n",
      "2     33.000   28         3          1           0           0         1\n",
      "3     22.705   33         0          1           0           0         1\n",
      "4     28.880   32         0          1           0           0         1\n",
      "...      ...  ...       ...        ...         ...         ...       ...\n",
      "1333  30.970   50         3          1           0           0         1\n",
      "1334  31.920   18         0          1           0           1         0\n",
      "1335  36.850   18         0          1           0           1         0\n",
      "1336  25.800   21         0          1           0           1         0\n",
      "1337  29.070   61         0          0           1           1         0\n",
      "\n",
      "[1338 rows x 7 columns]\n"
     ]
    }
   ],
   "source": [
    "# 5. MODEL 5: Model including five input variables \"Smoker\" (referring to smoking), \"BMI\", \"Age\",\"Children\",\"Sex\"  and one output variable (target) \"Charges\"\n",
    "\n",
    "X = data_df[['smoker','bmi','age','children','sex']]\n",
    "y = data_df['charges']\n",
    "\n",
    "# One-hot encoding of variable X\n",
    "\n",
    "X_dummies = pd.get_dummies(X)\n",
    "print(\"X_dummies: \", X_dummies)"
   ]
  },
  {
   "cell_type": "code",
   "execution_count": 448,
   "id": "97945c34",
   "metadata": {},
   "outputs": [
    {
     "name": "stdout",
     "output_type": "stream",
     "text": [
      "y =  -118.32010338561486  +  [ 3.20693337e+02  2.54952280e+02  4.30809389e+02 -1.17945124e+04\n",
      "  1.17945124e+04  1.17278966e+01 -1.17278966e+01] x\n"
     ]
    }
   ],
   "source": [
    "# train-test split\n",
    "X_train, X_test, y_train, y_test = train_test_split(X_dummies, y, test_size=0.2, random_state=0)\n",
    "\n",
    "# Choosing a regression model (Linear Regression) and training the model\n",
    "\n",
    "regr5 = linear_model.LinearRegression()\n",
    "regr5.fit(X_train, y_train)\n",
    "\n",
    "# The Regression Function no.5 looks as follows:\n",
    "print(\"y = \", regr5.intercept_, \" + \", regr5.coef_, \"x\")"
   ]
  },
  {
   "cell_type": "code",
   "execution_count": 449,
   "id": "396b5af5",
   "metadata": {},
   "outputs": [],
   "source": [
    "# Getting the prediction\n",
    "\n",
    "#Prediction for training data:\n",
    "y_train_pred = regr5.predict(X_train) \n",
    "#Prediction for test data:\n",
    "y_test_pred = regr5.predict(X_test)"
   ]
  },
  {
   "cell_type": "code",
   "execution_count": 450,
   "id": "f8a1298b",
   "metadata": {},
   "outputs": [
    {
     "data": {
      "text/html": [
       "<div>\n",
       "<style scoped>\n",
       "    .dataframe tbody tr th:only-of-type {\n",
       "        vertical-align: middle;\n",
       "    }\n",
       "\n",
       "    .dataframe tbody tr th {\n",
       "        vertical-align: top;\n",
       "    }\n",
       "\n",
       "    .dataframe thead th {\n",
       "        text-align: right;\n",
       "    }\n",
       "</style>\n",
       "<table border=\"1\" class=\"dataframe\">\n",
       "  <thead>\n",
       "    <tr style=\"text-align: right;\">\n",
       "      <th></th>\n",
       "      <th>Model number</th>\n",
       "      <th>MSE_train</th>\n",
       "      <th>MSE_test</th>\n",
       "      <th>RMSE_train</th>\n",
       "      <th>RMSE_test</th>\n",
       "      <th>R^2_train</th>\n",
       "      <th>R^2_test</th>\n",
       "      <th>Mean_test</th>\n",
       "      <th>Std_test</th>\n",
       "      <th>Characteristics</th>\n",
       "    </tr>\n",
       "  </thead>\n",
       "  <tbody>\n",
       "    <tr>\n",
       "      <th>0</th>\n",
       "      <td>Model 1</td>\n",
       "      <td>56800240.51</td>\n",
       "      <td>52630321.58</td>\n",
       "      <td>7536.59</td>\n",
       "      <td>7254.68</td>\n",
       "      <td>0.60</td>\n",
       "      <td>0.67</td>\n",
       "      <td>13221.01</td>\n",
       "      <td>9063.50</td>\n",
       "      <td>input variable: 'Smoker'</td>\n",
       "    </tr>\n",
       "    <tr>\n",
       "      <th>0</th>\n",
       "      <td>Model 2</td>\n",
       "      <td>51004166.22</td>\n",
       "      <td>46797181.74</td>\n",
       "      <td>7141.72</td>\n",
       "      <td>6840.85</td>\n",
       "      <td>0.64</td>\n",
       "      <td>0.71</td>\n",
       "      <td>13089.05</td>\n",
       "      <td>9865.19</td>\n",
       "      <td>input variables: 'Smoker','BMI'</td>\n",
       "    </tr>\n",
       "    <tr>\n",
       "      <th>0</th>\n",
       "      <td>Model 3</td>\n",
       "      <td>38099093.84</td>\n",
       "      <td>32693237.94</td>\n",
       "      <td>6172.45</td>\n",
       "      <td>5717.80</td>\n",
       "      <td>0.73</td>\n",
       "      <td>0.79</td>\n",
       "      <td>13258.44</td>\n",
       "      <td>10865.36</td>\n",
       "      <td>input variables: 'Smoker','BMI','Age'</td>\n",
       "    </tr>\n",
       "    <tr>\n",
       "      <th>0</th>\n",
       "      <td>Model 4</td>\n",
       "      <td>37828889.75</td>\n",
       "      <td>32171708.57</td>\n",
       "      <td>6150.52</td>\n",
       "      <td>5672.01</td>\n",
       "      <td>0.74</td>\n",
       "      <td>0.80</td>\n",
       "      <td>13290.90</td>\n",
       "      <td>10814.87</td>\n",
       "      <td>input variables: 'Smoker','BMI','Age','Children'</td>\n",
       "    </tr>\n",
       "    <tr>\n",
       "      <th>0</th>\n",
       "      <td>Model 5</td>\n",
       "      <td>37828752.95</td>\n",
       "      <td>32165826.64</td>\n",
       "      <td>6150.51</td>\n",
       "      <td>5671.49</td>\n",
       "      <td>0.74</td>\n",
       "      <td>0.80</td>\n",
       "      <td>13289.39</td>\n",
       "      <td>10813.57</td>\n",
       "      <td>input variables: 'Smoker','BMI','Age','Childre...</td>\n",
       "    </tr>\n",
       "  </tbody>\n",
       "</table>\n",
       "</div>"
      ],
      "text/plain": [
       "  Model number    MSE_train     MSE_test  RMSE_train  RMSE_test  R^2_train  \\\n",
       "0      Model 1  56800240.51  52630321.58     7536.59    7254.68       0.60   \n",
       "0      Model 2  51004166.22  46797181.74     7141.72    6840.85       0.64   \n",
       "0      Model 3  38099093.84  32693237.94     6172.45    5717.80       0.73   \n",
       "0      Model 4  37828889.75  32171708.57     6150.52    5672.01       0.74   \n",
       "0      Model 5  37828752.95  32165826.64     6150.51    5671.49       0.74   \n",
       "\n",
       "   R^2_test  Mean_test  Std_test  \\\n",
       "0      0.67   13221.01   9063.50   \n",
       "0      0.71   13089.05   9865.19   \n",
       "0      0.79   13258.44  10865.36   \n",
       "0      0.80   13290.90  10814.87   \n",
       "0      0.80   13289.39  10813.57   \n",
       "\n",
       "                                     Characteristics  \n",
       "0                           input variable: 'Smoker'  \n",
       "0                    input variables: 'Smoker','BMI'  \n",
       "0              input variables: 'Smoker','BMI','Age'  \n",
       "0   input variables: 'Smoker','BMI','Age','Children'  \n",
       "0  input variables: 'Smoker','BMI','Age','Childre...  "
      ]
     },
     "execution_count": 450,
     "metadata": {},
     "output_type": "execute_result"
    }
   ],
   "source": [
    "# Model evaluation: metrics\n",
    "\n",
    "#Mean Squarred Error (MSE):\n",
    "\n",
    "MSE_train_5= round(mean_squared_error(y_train, y_train_pred, squared=True),2)\n",
    "MSE_test_5= round(mean_squared_error(y_test, y_test_pred, squared=True),2)\n",
    "\n",
    "#Root Mean Squarred Error (RMSE):\n",
    "\n",
    "RMSE_train_5= round(mean_squared_error(y_train, y_train_pred, squared=False),2)\n",
    "RMSE_test_5= round(mean_squared_error(y_test, y_test_pred, squared=False),2)\n",
    "\n",
    "#Coeficient of determination (R^2)\n",
    "\n",
    "R2_train_5= round(r2_score(y_train, y_train_pred),2)\n",
    "R2_test_5= round(r2_score(y_test, y_test_pred),2)\n",
    "\n",
    "metrics_data5= {\n",
    "    \"Model number\": [\"Model 5\"],\n",
    "    \"MSE_train\" : [MSE_train_5],\n",
    "    \"MSE_test\" : [MSE_test_5],\n",
    "    \"RMSE_train\" : [RMSE_train_5],\n",
    "    \"RMSE_test\" :[RMSE_test_5],\n",
    "    \"R^2_train\" :[R2_train_5],\n",
    "    \"R^2_test\" :[R2_test_5],\n",
    "    \"Mean_test\": [round(statistics.mean(y_test_pred),2)],\n",
    "    \"Std_test\": [round(statistics.stdev(y_test_pred),2)],\n",
    "    \"Characteristics\" : [\"input variables: 'Smoker','BMI','Age','Children', 'Sex'\"],\n",
    "    }\n",
    "\n",
    "metrics_df5= pd.DataFrame(data=metrics_data5)\n",
    "pd.concat([metrics_df, metrics_df2, metrics_df3, metrics_df4, metrics_df5])"
   ]
  },
  {
   "cell_type": "code",
   "execution_count": 451,
   "id": "e9e97873",
   "metadata": {},
   "outputs": [
    {
     "name": "stdout",
     "output_type": "stream",
     "text": [
      "X_dummies:           bmi  age  children  smoker_no  smoker_yes  region_northeast  \\\n",
      "0     27.900   19         0          0           1                 0   \n",
      "1     33.770   18         1          1           0                 0   \n",
      "2     33.000   28         3          1           0                 0   \n",
      "3     22.705   33         0          1           0                 0   \n",
      "4     28.880   32         0          1           0                 0   \n",
      "...      ...  ...       ...        ...         ...               ...   \n",
      "1333  30.970   50         3          1           0                 0   \n",
      "1334  31.920   18         0          1           0                 1   \n",
      "1335  36.850   18         0          1           0                 0   \n",
      "1336  25.800   21         0          1           0                 0   \n",
      "1337  29.070   61         0          0           1                 0   \n",
      "\n",
      "      region_northwest  region_southeast  region_southwest  \n",
      "0                    0                 0                 1  \n",
      "1                    0                 1                 0  \n",
      "2                    0                 1                 0  \n",
      "3                    1                 0                 0  \n",
      "4                    1                 0                 0  \n",
      "...                ...               ...               ...  \n",
      "1333                 1                 0                 0  \n",
      "1334                 0                 0                 0  \n",
      "1335                 0                 1                 0  \n",
      "1336                 0                 0                 1  \n",
      "1337                 1                 0                 0  \n",
      "\n",
      "[1338 rows x 9 columns]\n"
     ]
    }
   ],
   "source": [
    "# 6. MODEL 6: Model including five input variables \"Smoker\" (referring to smoking), \"BMI\", \"Age\",\"Children\",\"Region\"  and one output variable (target) \"Charges\"\n",
    "\n",
    "X = data_df[['smoker','bmi','age','children','region']]\n",
    "y = data_df['charges']\n",
    "\n",
    "# One-hot encoding of variable X\n",
    "\n",
    "X_dummies = pd.get_dummies(X)\n",
    "print(\"X_dummies: \", X_dummies)"
   ]
  },
  {
   "cell_type": "code",
   "execution_count": 452,
   "id": "055dcf54",
   "metadata": {},
   "outputs": [
    {
     "name": "stdout",
     "output_type": "stream",
     "text": [
      "y =  -516.3589627668625  +  [   335.92334322    253.71289612    436.72852645 -11802.04839381\n",
      "  11802.04839381    483.80313267    223.92508718   -429.78382223\n",
      "   -277.94439762] x\n"
     ]
    }
   ],
   "source": [
    "# train-test split\n",
    "X_train, X_test, y_train, y_test = train_test_split(X_dummies, y, test_size=0.2, random_state=0)\n",
    "\n",
    "# Choosing a regression model (Linear Regression) and training the model\n",
    "\n",
    "regr6 = linear_model.LinearRegression()\n",
    "regr6.fit(X_train, y_train)\n",
    "\n",
    "# The Regression Function no.6 looks as follows:\n",
    "print(\"y = \", regr6.intercept_, \" + \", regr6.coef_, \"x\")"
   ]
  },
  {
   "cell_type": "code",
   "execution_count": 453,
   "id": "1ec4a123",
   "metadata": {},
   "outputs": [],
   "source": [
    "# Getting the prediction\n",
    "\n",
    "#Prediction for training data:\n",
    "y_train_pred = regr6.predict(X_train) \n",
    "#Prediction for test data:\n",
    "y_test_pred = regr6.predict(X_test)"
   ]
  },
  {
   "cell_type": "code",
   "execution_count": 454,
   "id": "ab9819dc",
   "metadata": {},
   "outputs": [
    {
     "data": {
      "text/html": [
       "<div>\n",
       "<style scoped>\n",
       "    .dataframe tbody tr th:only-of-type {\n",
       "        vertical-align: middle;\n",
       "    }\n",
       "\n",
       "    .dataframe tbody tr th {\n",
       "        vertical-align: top;\n",
       "    }\n",
       "\n",
       "    .dataframe thead th {\n",
       "        text-align: right;\n",
       "    }\n",
       "</style>\n",
       "<table border=\"1\" class=\"dataframe\">\n",
       "  <thead>\n",
       "    <tr style=\"text-align: right;\">\n",
       "      <th></th>\n",
       "      <th>Model number</th>\n",
       "      <th>MSE_train</th>\n",
       "      <th>MSE_test</th>\n",
       "      <th>RMSE_train</th>\n",
       "      <th>RMSE_test</th>\n",
       "      <th>R^2_train</th>\n",
       "      <th>R^2_test</th>\n",
       "      <th>Mean_test</th>\n",
       "      <th>Std_test</th>\n",
       "      <th>Characteristics</th>\n",
       "    </tr>\n",
       "  </thead>\n",
       "  <tbody>\n",
       "    <tr>\n",
       "      <th>0</th>\n",
       "      <td>Model 1</td>\n",
       "      <td>56800240.51</td>\n",
       "      <td>52630321.58</td>\n",
       "      <td>7536.59</td>\n",
       "      <td>7254.68</td>\n",
       "      <td>0.60</td>\n",
       "      <td>0.67</td>\n",
       "      <td>13221.01</td>\n",
       "      <td>9063.50</td>\n",
       "      <td>input variable: 'Smoker'</td>\n",
       "    </tr>\n",
       "    <tr>\n",
       "      <th>0</th>\n",
       "      <td>Model 2</td>\n",
       "      <td>51004166.22</td>\n",
       "      <td>46797181.74</td>\n",
       "      <td>7141.72</td>\n",
       "      <td>6840.85</td>\n",
       "      <td>0.64</td>\n",
       "      <td>0.71</td>\n",
       "      <td>13089.05</td>\n",
       "      <td>9865.19</td>\n",
       "      <td>input variables: 'Smoker','BMI'</td>\n",
       "    </tr>\n",
       "    <tr>\n",
       "      <th>0</th>\n",
       "      <td>Model 3</td>\n",
       "      <td>38099093.84</td>\n",
       "      <td>32693237.94</td>\n",
       "      <td>6172.45</td>\n",
       "      <td>5717.80</td>\n",
       "      <td>0.73</td>\n",
       "      <td>0.79</td>\n",
       "      <td>13258.44</td>\n",
       "      <td>10865.36</td>\n",
       "      <td>input variables: 'Smoker','BMI','Age'</td>\n",
       "    </tr>\n",
       "    <tr>\n",
       "      <th>0</th>\n",
       "      <td>Model 4</td>\n",
       "      <td>37828889.75</td>\n",
       "      <td>32171708.57</td>\n",
       "      <td>6150.52</td>\n",
       "      <td>5672.01</td>\n",
       "      <td>0.74</td>\n",
       "      <td>0.80</td>\n",
       "      <td>13290.90</td>\n",
       "      <td>10814.87</td>\n",
       "      <td>input variables: 'Smoker','BMI','Age','Children'</td>\n",
       "    </tr>\n",
       "    <tr>\n",
       "      <th>0</th>\n",
       "      <td>Model 5</td>\n",
       "      <td>37828752.95</td>\n",
       "      <td>32165826.64</td>\n",
       "      <td>6150.51</td>\n",
       "      <td>5671.49</td>\n",
       "      <td>0.74</td>\n",
       "      <td>0.80</td>\n",
       "      <td>13289.39</td>\n",
       "      <td>10813.57</td>\n",
       "      <td>input variables: 'Smoker','BMI','Age','Childre...</td>\n",
       "    </tr>\n",
       "    <tr>\n",
       "      <th>0</th>\n",
       "      <td>Model 6</td>\n",
       "      <td>37701592.54</td>\n",
       "      <td>31832216.47</td>\n",
       "      <td>6140.16</td>\n",
       "      <td>5642.00</td>\n",
       "      <td>0.74</td>\n",
       "      <td>0.80</td>\n",
       "      <td>13337.51</td>\n",
       "      <td>10793.60</td>\n",
       "      <td>input variables: 'Smoker','BMI','Age','Childre...</td>\n",
       "    </tr>\n",
       "  </tbody>\n",
       "</table>\n",
       "</div>"
      ],
      "text/plain": [
       "  Model number    MSE_train     MSE_test  RMSE_train  RMSE_test  R^2_train  \\\n",
       "0      Model 1  56800240.51  52630321.58     7536.59    7254.68       0.60   \n",
       "0      Model 2  51004166.22  46797181.74     7141.72    6840.85       0.64   \n",
       "0      Model 3  38099093.84  32693237.94     6172.45    5717.80       0.73   \n",
       "0      Model 4  37828889.75  32171708.57     6150.52    5672.01       0.74   \n",
       "0      Model 5  37828752.95  32165826.64     6150.51    5671.49       0.74   \n",
       "0      Model 6  37701592.54  31832216.47     6140.16    5642.00       0.74   \n",
       "\n",
       "   R^2_test  Mean_test  Std_test  \\\n",
       "0      0.67   13221.01   9063.50   \n",
       "0      0.71   13089.05   9865.19   \n",
       "0      0.79   13258.44  10865.36   \n",
       "0      0.80   13290.90  10814.87   \n",
       "0      0.80   13289.39  10813.57   \n",
       "0      0.80   13337.51  10793.60   \n",
       "\n",
       "                                     Characteristics  \n",
       "0                           input variable: 'Smoker'  \n",
       "0                    input variables: 'Smoker','BMI'  \n",
       "0              input variables: 'Smoker','BMI','Age'  \n",
       "0   input variables: 'Smoker','BMI','Age','Children'  \n",
       "0  input variables: 'Smoker','BMI','Age','Childre...  \n",
       "0  input variables: 'Smoker','BMI','Age','Childre...  "
      ]
     },
     "execution_count": 454,
     "metadata": {},
     "output_type": "execute_result"
    }
   ],
   "source": [
    "# Model evaluation: metrics\n",
    "\n",
    "#Mean Squarred Error (MSE):\n",
    "\n",
    "MSE_train_6= round(mean_squared_error(y_train, y_train_pred, squared=True),2)\n",
    "MSE_test_6= round(mean_squared_error(y_test, y_test_pred, squared=True),2)\n",
    "\n",
    "#Root Mean Squarred Error (RMSE):\n",
    "\n",
    "RMSE_train_6= round(mean_squared_error(y_train, y_train_pred, squared=False),2)\n",
    "RMSE_test_6= round(mean_squared_error(y_test, y_test_pred, squared=False),2)\n",
    "\n",
    "#Coeficient of determination (R^2)\n",
    "\n",
    "R2_train_6= round(r2_score(y_train, y_train_pred),2)\n",
    "R2_test_6= round(r2_score(y_test, y_test_pred),2)\n",
    "\n",
    "metrics_data6= {\n",
    "    \"Model number\": [\"Model 6\"],\n",
    "    \"MSE_train\" : [MSE_train_6],\n",
    "    \"MSE_test\" : [MSE_test_6],\n",
    "    \"RMSE_train\" : [RMSE_train_6],\n",
    "    \"RMSE_test\" :[RMSE_test_6],\n",
    "    \"R^2_train\" :[R2_train_6],\n",
    "    \"R^2_test\" :[R2_test_6],\n",
    "    \"Mean_test\": [round(statistics.mean(y_test_pred),2)],\n",
    "    \"Std_test\": [round(statistics.stdev(y_test_pred),2)],\n",
    "    \"Characteristics\" : [\"input variables: 'Smoker','BMI','Age','Children', 'Sex'\"],\n",
    "    }\n",
    "\n",
    "metrics_df6= pd.DataFrame(data=metrics_data6)\n",
    "pd.concat([metrics_df, metrics_df2, metrics_df3, metrics_df4, metrics_df5, metrics_df6])"
   ]
  },
  {
   "cell_type": "code",
   "execution_count": 455,
   "id": "1fa2b593",
   "metadata": {},
   "outputs": [],
   "source": [
    "# Conclusion regarding Models no. 1-6\n",
    "\n",
    "# The best model so far proved to be the model including four input variables (independent variables): \n",
    "# -\"Smoker\" (smoking/non-smoking of the person),\n",
    "# -\"BMI\" (the bmi of the person),\n",
    "# -\"Age\" (age of the person),\n",
    "# -\"Children\" (how many children does the person have).\n",
    "# These input variables proved to be most valuable for the model, even though they did not pop out in the correlation matrix as highly correlated with the target value.\n",
    "\n",
    "# Including of any other input variables (\"Sex\" or\"Region\") was not bringing more merit.\n",
    "\n",
    "# There is a huge difference between MSE and RMSE error value. This is because MSE tends to \"punish\" the model more for large errors as the calculated errors are squared, \n",
    "# while RMSE errors are squarred root, so the figures tend to be lower. \n",
    "# In both, we can observe that error values were falling when adding more input variables, until it shown no significant difference anymore (for input variables \"Sex\" and \"Region\").\n",
    "\n",
    "# Comparing RMSE test values with mean and standard deviation values we can see that the RMSE values fall when the statistics of the model\n",
    "# are getting better, however there is no strategic change in standard deviation or mean of the data to be found. \n",
    "\n",
    "#The Coeficient of determination (R^2) for the first model could indicate overfitting of the model (R^2 for the training data was higher than for the test data).\n",
    "# This effect is not observed from the second model onwards.\n",
    "# The best score we could observe from Model no.4 and onwards (however Model no. 5 and no. 6 had no significant improvement when it comes to R^2 value).\n",
    "# The R^2 score = 80% for the test data means that 80% of predicted data matched actual data samples.  \n"
   ]
  }
 ],
 "metadata": {
  "kernelspec": {
   "display_name": "Python 3 (ipykernel)",
   "language": "python",
   "name": "python3"
  },
  "language_info": {
   "codemirror_mode": {
    "name": "ipython",
    "version": 3
   },
   "file_extension": ".py",
   "mimetype": "text/x-python",
   "name": "python",
   "nbconvert_exporter": "python",
   "pygments_lexer": "ipython3",
   "version": "3.10.4"
  }
 },
 "nbformat": 4,
 "nbformat_minor": 5
}
